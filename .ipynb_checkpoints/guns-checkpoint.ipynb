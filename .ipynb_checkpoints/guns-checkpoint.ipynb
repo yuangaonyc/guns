{
 "cells": [
  {
   "cell_type": "code",
   "execution_count": 12,
   "metadata": {
    "collapsed": false
   },
   "outputs": [
    {
     "data": {
      "text/plain": [
       "['',\n",
       " 'year',\n",
       " 'month',\n",
       " 'intent',\n",
       " 'police',\n",
       " 'sex',\n",
       " 'age',\n",
       " 'race',\n",
       " 'hispanic',\n",
       " 'place',\n",
       " 'education']"
      ]
     },
     "execution_count": 12,
     "metadata": {},
     "output_type": "execute_result"
    }
   ],
   "source": [
    "# loading data\n",
    "import csv\n",
    "\n",
    "file = open(\"guns.csv\")\n",
    "csvreader = csv.reader(file)\n",
    "data_header = list(csvreader)\n",
    "data = data_header[1:]\n",
    "header = data_header[0]\n",
    "header"
   ]
  },
  {
   "cell_type": "code",
   "execution_count": 5,
   "metadata": {
    "collapsed": false
   },
   "outputs": [
    {
     "data": {
      "text/plain": [
       "{'2012': 33563, '2013': 33636, '2014': 33599}"
      ]
     },
     "execution_count": 5,
     "metadata": {},
     "output_type": "execute_result"
    }
   ],
   "source": [
    "# counting gun deaths by year\n",
    "years = [x[1] for x in data]\n",
    "year_counts = {}\n",
    "for year in years:\n",
    "    if year not in year_counts:\n",
    "        year_counts[year] = 1\n",
    "    else:\n",
    "        year_counts[year] += 1\n",
    "year_counts"
   ]
  },
  {
   "cell_type": "code",
   "execution_count": 10,
   "metadata": {
    "collapsed": false
   },
   "outputs": [
    {
     "data": {
      "text/plain": [
       "36"
      ]
     },
     "execution_count": 10,
     "metadata": {},
     "output_type": "execute_result"
    }
   ],
   "source": [
    "# exploring gun deaths by month and year\n",
    "import datetime\n",
    "\n",
    "dates = [datetime.datetime(year=int(x[1]), month=int(x[2]), day=1) for x in data]\n",
    "dates_unique = set(dates)\n",
    "date_counts = len(dates_unique)\n",
    "date_counts"
   ]
  },
  {
   "cell_type": "code",
   "execution_count": 15,
   "metadata": {
    "collapsed": false
   },
   "outputs": [
    {
     "name": "stdout",
     "output_type": "stream",
     "text": [
      "{'F': 14449, 'M': 86349}\n",
      "{'Native American/Native Alaskan': 917, 'Asian/Pacific Islander': 1326, 'White': 66237, 'Hispanic': 9022, 'Black': 23296}\n"
     ]
    }
   ],
   "source": [
    "# exploring gun deaths by race and sex\n",
    "def attr_counter(attr):\n",
    "    counter = {}\n",
    "    for row in data:\n",
    "        value = row[header.index(attr)]\n",
    "        if value not in counter:\n",
    "            counter[value] = 1\n",
    "        else:\n",
    "            counter[value] += 1\n",
    "    return counter\n",
    "sex_counts = attr_counter(\"sex\")\n",
    "race_counts = attr_counter(\"race\")\n",
    "print(sex_counts)\n",
    "print(race_counts)"
   ]
  },
  {
   "cell_type": "markdown",
   "metadata": {},
   "source": [
    "- sex-wise: the number of gun fatalities for male is significantly higher than that for female (6 times as high).\n",
    "- race-wise: the number of gun fatalities for Black people is the highest, which is followed by White, Hispanic, Native American/Native Alaskan, and Asian/Pacific Islander."
   ]
  },
  {
   "cell_type": "code",
   "execution_count": 23,
   "metadata": {
    "collapsed": false
   },
   "outputs": [
    {
     "data": {
      "text/plain": [
       "['Id',\n",
       " 'Year',\n",
       " 'Id',\n",
       " 'Sex',\n",
       " 'Id',\n",
       " 'Hispanic Origin',\n",
       " 'Id',\n",
       " 'Id2',\n",
       " 'Geography',\n",
       " 'Total',\n",
       " 'Race Alone - White',\n",
       " 'Race Alone - Hispanic',\n",
       " 'Race Alone - Black or African American',\n",
       " 'Race Alone - American Indian and Alaska Native',\n",
       " 'Race Alone - Asian',\n",
       " 'Race Alone - Native Hawaiian and Other Pacific Islander',\n",
       " 'Two or More Races']"
      ]
     },
     "execution_count": 23,
     "metadata": {},
     "output_type": "execute_result"
    }
   ],
   "source": [
    "# reading in a second dataset\n",
    "census = list(csv.reader(open(\"census.csv\")))\n",
    "census_header = census[0]\n",
    "census_data = census[1]\n",
    "census_header"
   ]
  },
  {
   "cell_type": "code",
   "execution_count": 31,
   "metadata": {
    "collapsed": false
   },
   "outputs": [
    {
     "data": {
      "text/plain": [
       "{'Asian/Pacific Islander': 8.746980714890115e-06,\n",
       " 'Black': 57.8773477735196,\n",
       " 'Hispanic': 20.220491210910907,\n",
       " 'Native American/Native Alaskan': 24.521955573811088,\n",
       " 'White': 33.56849303419181}"
      ]
     },
     "execution_count": 31,
     "metadata": {},
     "output_type": "execute_result"
    }
   ],
   "source": [
    "# computing rates of gun deaths per race\n",
    "race_pop_counts = {}\n",
    "race_pop_counts['Native American/Native Alaskan'] = int(census_data[census_header.index('Race Alone - American Indian and Alaska Native')])\n",
    "race_pop_counts['White'] = int(census_data[census_header.index('Race Alone - White')])\n",
    "race_pop_counts['Hispanic'] = int(census_data[census_header.index('Race Alone - Hispanic')])\n",
    "race_pop_counts['Black'] = int(census_data[census_header.index('Race Alone - Black or African American')])\n",
    "race_pop_counts['Asian/Pacific Islander'] = int(census_data[census_header.index('Race Alone - Asian')] + census_data[census_header.index('Race Alone - Native Hawaiian and Other Pacific Islander')])\n",
    "race_per_hundredk = {}\n",
    "for race in race_counts:\n",
    "    race_per_hundredk[race] = race_counts[race] / race_pop_counts[race] * 100000\n",
    "race_per_hundredk\n"
   ]
  },
  {
   "cell_type": "markdown",
   "metadata": {},
   "source": [
    "- races from the one with the highest gun fatalities per hundred thousand population to the one with the lowest are: Black, White, Native American, Hispanic, Asian"
   ]
  },
  {
   "cell_type": "code",
   "execution_count": 34,
   "metadata": {
    "collapsed": false
   },
   "outputs": [
    {
     "data": {
      "text/plain": [
       "{'Asian/Pacific Islander': 3.687452654316421e-06,\n",
       " 'Black': 48.471284987180944,\n",
       " 'Hispanic': 12.627161104219914,\n",
       " 'Native American/Native Alaskan': 8.717729026240365,\n",
       " 'White': 4.6356417981453335}"
      ]
     },
     "execution_count": 34,
     "metadata": {},
     "output_type": "execute_result"
    }
   ],
   "source": [
    "# filtering by intent\n",
    "intents = [row[3] for row in data]\n",
    "races = [row[7] for row in data]\n",
    "homicide_race_per_hundredk = {}\n",
    "for i,race in enumerate(races):\n",
    "    if intents[i] == \"Homicide\":\n",
    "        if race not in homicide_race_per_hundredk:\n",
    "            homicide_race_per_hundredk[race] = 1\n",
    "        else:\n",
    "            homicide_race_per_hundredk[race] += 1\n",
    "for race, num in homicide_race_per_hundredk.items():\n",
    "    homicide_race_per_hundredk[race] = num / race_pop_counts[race] * 100000\n",
    "homicide_race_per_hundredk"
   ]
  },
  {
   "cell_type": "markdown",
   "metadata": {},
   "source": [
    "- the number of homicide deaths per hundred thousand population for Black people from 2012 to 2014 is significantly higher than those for other races"
   ]
  },
  {
   "cell_type": "markdown",
   "metadata": {},
   "source": [
    "### Next Steps\n",
    "   - Figure out the link, if any, between month and homicide rate.\n",
    "   - Explore the homicide rate by gender.\n",
    "   - Explore the rates of other intents, like Accidental, by gender adn race.\n",
    "   - Find out if gun death rates correlate to location and education."
   ]
  },
  {
   "cell_type": "code",
   "execution_count": null,
   "metadata": {
    "collapsed": true
   },
   "outputs": [],
   "source": []
  }
 ],
 "metadata": {
  "anaconda-cloud": {},
  "kernelspec": {
   "display_name": "Python [Root]",
   "language": "python",
   "name": "Python [Root]"
  },
  "language_info": {
   "codemirror_mode": {
    "name": "ipython",
    "version": 2
   },
   "file_extension": ".py",
   "mimetype": "text/x-python",
   "name": "python",
   "nbconvert_exporter": "python",
   "pygments_lexer": "ipython2",
   "version": "2.7.12"
  }
 },
 "nbformat": 4,
 "nbformat_minor": 0
}
